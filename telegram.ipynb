{
 "cells": [
  {
   "cell_type": "code",
   "execution_count": 1,
   "id": "centered-gentleman",
   "metadata": {},
   "outputs": [],
   "source": [
    "import json\n",
    "import re"
   ]
  },
  {
   "cell_type": "code",
   "execution_count": 2,
   "id": "soviet-modem",
   "metadata": {},
   "outputs": [],
   "source": [
    "with open('result.json') as f:\n",
    "    data = json.load(f)"
   ]
  },
  {
   "cell_type": "code",
   "execution_count": 3,
   "id": "small-drilling",
   "metadata": {},
   "outputs": [
    {
     "data": {
      "text/plain": [
       "dict"
      ]
     },
     "execution_count": 3,
     "metadata": {},
     "output_type": "execute_result"
    }
   ],
   "source": [
    "type(data)"
   ]
  },
  {
   "cell_type": "code",
   "execution_count": 4,
   "id": "controversial-ontario",
   "metadata": {},
   "outputs": [],
   "source": [
    "test = data['chats']['list'][:10]"
   ]
  },
  {
   "cell_type": "code",
   "execution_count": 6,
   "id": "wooden-conducting",
   "metadata": {},
   "outputs": [],
   "source": [
    "chats = []\n",
    "for i in range(len(test[1]['messages'])):\n",
    "    if test[1]['messages'][i]['type']=='message':\n",
    "        mes = test[1]['messages'][i]['text']\n",
    "        from_ = test[1]['messages'][i]['from']\n",
    "        date = test[1]['messages'][i]['date']\n",
    "        if mes !='' and type(mes)==str:\n",
    "            chats.append([mes, from_, date])"
   ]
  },
  {
   "cell_type": "code",
   "execution_count": 7,
   "id": "supported-samuel",
   "metadata": {},
   "outputs": [
    {
     "data": {
      "text/plain": [
       "['Интересно, кому это', 'Liudmyla Slava', '2017-05-05T20:05:53']"
      ]
     },
     "execution_count": 7,
     "metadata": {},
     "output_type": "execute_result"
    }
   ],
   "source": [
    "chats[0]"
   ]
  },
  {
   "cell_type": "code",
   "execution_count": 8,
   "id": "similar-eugene",
   "metadata": {},
   "outputs": [
    {
     "data": {
      "text/plain": [
       "[['Интересно, кому это', 'Liudmyla Slava', '2017-05-05T20:05:53'],\n",
       " ['Ахаххаах', 'Наташа Нацяк', '2017-05-05T20:06:26'],\n",
       " ['Ты шо, с др его не поздравила?', 'Наташа Нацяк', '2017-05-05T20:06:36'],\n",
       " ['Поздравила', 'Liudmyla Slava', '2017-05-05T20:06:51'],\n",
       " ['Я розбила йому серце', 'Liudmyla Slava', '2017-05-05T20:07:07'],\n",
       " ['Охуенная собака', 'Наташа Нацяк', '2017-05-05T20:08:23'],\n",
       " ['Дык это же дигги', 'Liudmyla Slava', '2017-05-05T20:08:41'],\n",
       " ['30 рубков вк', 'Liudmyla Slava', '2017-05-05T20:08:58'],\n",
       " ['Бесплатно в телеграмме)', 'Наташа Нацяк', '2017-05-05T20:09:08'],\n",
       " ['Я живу в ЖК щасливий', 'Liudmyla Slava', '2017-05-05T20:09:50']]"
      ]
     },
     "execution_count": 8,
     "metadata": {},
     "output_type": "execute_result"
    }
   ],
   "source": [
    "chats[:10]"
   ]
  },
  {
   "cell_type": "code",
   "execution_count": 9,
   "id": "sexual-bouquet",
   "metadata": {},
   "outputs": [
    {
     "data": {
      "text/plain": [
       "'ой він як запиздить на 5 годин'"
      ]
     },
     "execution_count": 9,
     "metadata": {},
     "output_type": "execute_result"
    }
   ],
   "source": [
    "chats[-1][0]"
   ]
  },
  {
   "cell_type": "code",
   "execution_count": 10,
   "id": "scientific-despite",
   "metadata": {},
   "outputs": [
    {
     "data": {
      "text/plain": [
       "32684"
      ]
     },
     "execution_count": 10,
     "metadata": {},
     "output_type": "execute_result"
    }
   ],
   "source": [
    "len(chats)"
   ]
  },
  {
   "cell_type": "code",
   "execution_count": 11,
   "id": "infinite-active",
   "metadata": {},
   "outputs": [],
   "source": [
    "text = [ch[0] for ch in chats]\n",
    "corp = [t.split(' ') for t in text]"
   ]
  },
  {
   "cell_type": "code",
   "execution_count": 12,
   "id": "interested-calendar",
   "metadata": {},
   "outputs": [],
   "source": [
    "full = [item for sub in corp for item in sub]"
   ]
  },
  {
   "cell_type": "code",
   "execution_count": 13,
   "id": "fitting-accreditation",
   "metadata": {},
   "outputs": [
    {
     "data": {
      "text/plain": [
       "['Интересно,',\n",
       " 'кому',\n",
       " 'это',\n",
       " 'Ахаххаах',\n",
       " 'Ты',\n",
       " 'шо,',\n",
       " 'с',\n",
       " 'др',\n",
       " 'его',\n",
       " 'не',\n",
       " 'поздравила?',\n",
       " 'Поздравила',\n",
       " 'Я',\n",
       " 'розбила',\n",
       " 'йому']"
      ]
     },
     "execution_count": 13,
     "metadata": {},
     "output_type": "execute_result"
    }
   ],
   "source": [
    "full[0:15]"
   ]
  },
  {
   "cell_type": "code",
   "execution_count": 14,
   "id": "enhanced-nelson",
   "metadata": {},
   "outputs": [],
   "source": [
    "# importing a string of punctuation and digits to remove\n",
    "import string\n",
    "exclist = string.punctuation + string.digits\n",
    "# remove punctuations and digits from oldtext\n",
    "table_ = str.maketrans('', '', exclist)\n",
    "text = [f.translate(table_) for f in full]"
   ]
  },
  {
   "cell_type": "code",
   "execution_count": 20,
   "id": "municipal-accused",
   "metadata": {},
   "outputs": [],
   "source": [
    "corp = [t for t in text if t!='']\n",
    "text = [t.lower() for t in corp]\n",
    "corp = [t.replace('\\n', '') for t in text]"
   ]
  },
  {
   "cell_type": "code",
   "execution_count": 21,
   "id": "conditional-habitat",
   "metadata": {},
   "outputs": [],
   "source": [
    "from collections import Counter\n",
    "\n",
    "counts = Counter(corp)"
   ]
  },
  {
   "cell_type": "code",
   "execution_count": 1,
   "id": "bright-beach",
   "metadata": {},
   "outputs": [],
   "source": [
    "# print(counts)"
   ]
  },
  {
   "cell_type": "code",
   "execution_count": 23,
   "id": "recovered-trigger",
   "metadata": {},
   "outputs": [
    {
     "name": "stdout",
     "output_type": "stream",
     "text": [
      "The value of __name__ is: '__main__'\n"
     ]
    }
   ],
   "source": [
    "print(\"The value of __name__ is:\", repr(__name__))"
   ]
  }
 ],
 "metadata": {
  "kernelspec": {
   "display_name": "Python 3",
   "language": "python",
   "name": "python3"
  },
  "language_info": {
   "codemirror_mode": {
    "name": "ipython",
    "version": 3
   },
   "file_extension": ".py",
   "mimetype": "text/x-python",
   "name": "python",
   "nbconvert_exporter": "python",
   "pygments_lexer": "ipython3",
   "version": "3.8.5"
  }
 },
 "nbformat": 4,
 "nbformat_minor": 5
}
